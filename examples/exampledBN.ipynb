{
 "cells": [
  {
   "cell_type": "code",
   "execution_count": 2,
   "metadata": {},
   "outputs": [],
   "source": [
    "import pyAgrum as gum\n",
    "import numpy as np \n",
    "import pandas as pd \n",
    "import pyAgrum.lib.dynamicBN as gdyn\n",
    "import pyAgrum.lib.notebook as gnb"
   ]
  },
  {
   "cell_type": "code",
   "execution_count": 3,
   "metadata": {},
   "outputs": [],
   "source": [
    "import sys\n",
    "import os\n",
    "sys.path.insert(0, os.path.abspath(os.path.join(os.path.curdir, '..', 'lib')))\n",
    "\n",
    "import ktbn"
   ]
  },
  {
   "cell_type": "code",
   "execution_count": 4,
   "metadata": {},
   "outputs": [
    {
     "data": {
      "text/html": [
       "<svg xmlns=\"http://www.w3.org/2000/svg\" xmlns:xlink=\"http://www.w3.org/1999/xlink\" width=\"233pt\" height=\"188pt\" viewBox=\"0.00 0.00 233.00 188.00\">\n",
       "<g id=\"graph0\" class=\"graph\" transform=\"scale(1 1) rotate(0) translate(4 184)\">\n",
       "<title>G</title>\n",
       "<!-- z -->\n",
       "<g id=\"node1\" class=\"node\">\n",
       "<title>z</title>\n",
       "<g id=\"a_node1\"><a xlink:title=\"(6) z\">\n",
       "<ellipse fill=\"#404040\" stroke=\"#4a4a4a\" cx=\"54\" cy=\"-90\" rx=\"27\" ry=\"18\"/>\n",
       "<text text-anchor=\"middle\" x=\"54\" y=\"-85.33\" font-family=\"Times,serif\" font-size=\"14.00\" fill=\"white\">z</text>\n",
       "</a>\n",
       "</g>\n",
       "</g>\n",
       "<!-- x2 -->\n",
       "<g id=\"node7\" class=\"node\">\n",
       "<title>x2</title>\n",
       "<g id=\"a_node7\"><a xlink:title=\"(2) x2\">\n",
       "<ellipse fill=\"#404040\" stroke=\"#4a4a4a\" cx=\"54\" cy=\"-18\" rx=\"27\" ry=\"18\"/>\n",
       "<text text-anchor=\"middle\" x=\"54\" y=\"-13.32\" font-family=\"Times,serif\" font-size=\"14.00\" fill=\"white\">x2</text>\n",
       "</a>\n",
       "</g>\n",
       "</g>\n",
       "<!-- z&#45;&gt;x2 -->\n",
       "<g id=\"edge2\" class=\"edge\">\n",
       "<title>z-&gt;x2</title>\n",
       "<g id=\"a_edge2\"><a xlink:title=\"6 → 2\">\n",
       "<path fill=\"none\" stroke=\"#4a4a4a\" d=\"M54,-71.7C54,-64.41 54,-55.73 54,-47.54\"/>\n",
       "<polygon fill=\"#4a4a4a\" stroke=\"#4a4a4a\" points=\"57.5,-47.62 54,-37.62 50.5,-47.62 57.5,-47.62\"/>\n",
       "</a>\n",
       "</g>\n",
       "</g>\n",
       "<!-- y0 -->\n",
       "<g id=\"node2\" class=\"node\">\n",
       "<title>y0</title>\n",
       "<g id=\"a_node2\"><a xlink:title=\"(3) y0\">\n",
       "<ellipse fill=\"#404040\" stroke=\"#4a4a4a\" cx=\"198\" cy=\"-90\" rx=\"27\" ry=\"18\"/>\n",
       "<text text-anchor=\"middle\" x=\"198\" y=\"-85.33\" font-family=\"Times,serif\" font-size=\"14.00\" fill=\"white\">y0</text>\n",
       "</a>\n",
       "</g>\n",
       "</g>\n",
       "<!-- y2 -->\n",
       "<g id=\"node5\" class=\"node\">\n",
       "<title>y2</title>\n",
       "<g id=\"a_node5\"><a xlink:title=\"(4) y2\">\n",
       "<ellipse fill=\"#404040\" stroke=\"#4a4a4a\" cx=\"162\" cy=\"-18\" rx=\"27\" ry=\"18\"/>\n",
       "<text text-anchor=\"middle\" x=\"162\" y=\"-13.32\" font-family=\"Times,serif\" font-size=\"14.00\" fill=\"white\">y2</text>\n",
       "</a>\n",
       "</g>\n",
       "</g>\n",
       "<!-- y0&#45;&gt;y2 -->\n",
       "<g id=\"edge4\" class=\"edge\">\n",
       "<title>y0-&gt;y2</title>\n",
       "<g id=\"a_edge4\"><a xlink:title=\"3 → 4\">\n",
       "<path fill=\"none\" stroke=\"#4a4a4a\" d=\"M189.65,-72.76C185.42,-64.55 180.19,-54.37 175.42,-45.09\"/>\n",
       "<polygon fill=\"#4a4a4a\" stroke=\"#4a4a4a\" points=\"178.68,-43.79 171,-36.49 172.46,-46.99 178.68,-43.79\"/>\n",
       "</a>\n",
       "</g>\n",
       "</g>\n",
       "<!-- y1 -->\n",
       "<g id=\"node3\" class=\"node\">\n",
       "<title>y1</title>\n",
       "<g id=\"a_node3\"><a xlink:title=\"(5) y1\">\n",
       "<ellipse fill=\"#404040\" stroke=\"#4a4a4a\" cx=\"126\" cy=\"-162\" rx=\"27\" ry=\"18\"/>\n",
       "<text text-anchor=\"middle\" x=\"126\" y=\"-157.32\" font-family=\"Times,serif\" font-size=\"14.00\" fill=\"white\">y1</text>\n",
       "</a>\n",
       "</g>\n",
       "</g>\n",
       "<!-- x1 -->\n",
       "<g id=\"node4\" class=\"node\">\n",
       "<title>x1</title>\n",
       "<g id=\"a_node4\"><a xlink:title=\"(1) x1\">\n",
       "<ellipse fill=\"#404040\" stroke=\"#4a4a4a\" cx=\"126\" cy=\"-90\" rx=\"27\" ry=\"18\"/>\n",
       "<text text-anchor=\"middle\" x=\"126\" y=\"-85.33\" font-family=\"Times,serif\" font-size=\"14.00\" fill=\"white\">x1</text>\n",
       "</a>\n",
       "</g>\n",
       "</g>\n",
       "<!-- y1&#45;&gt;x1 -->\n",
       "<g id=\"edge5\" class=\"edge\">\n",
       "<title>y1-&gt;x1</title>\n",
       "<g id=\"a_edge5\"><a xlink:title=\"5 → 1\">\n",
       "<path fill=\"none\" stroke=\"#4a4a4a\" d=\"M126,-143.7C126,-136.41 126,-127.73 126,-119.54\"/>\n",
       "<polygon fill=\"#4a4a4a\" stroke=\"#4a4a4a\" points=\"129.5,-119.62 126,-109.62 122.5,-119.62 129.5,-119.62\"/>\n",
       "</a>\n",
       "</g>\n",
       "</g>\n",
       "<!-- x1&#45;&gt;y2 -->\n",
       "<g id=\"edge6\" class=\"edge\">\n",
       "<title>x1-&gt;y2</title>\n",
       "<g id=\"a_edge6\"><a xlink:title=\"1 → 4\">\n",
       "<path fill=\"none\" stroke=\"#4a4a4a\" d=\"M134.35,-72.76C138.58,-64.55 143.81,-54.37 148.58,-45.09\"/>\n",
       "<polygon fill=\"#4a4a4a\" stroke=\"#4a4a4a\" points=\"151.54,-46.99 153,-36.49 145.32,-43.79 151.54,-46.99\"/>\n",
       "</a>\n",
       "</g>\n",
       "</g>\n",
       "<!-- x1&#45;&gt;x2 -->\n",
       "<g id=\"edge3\" class=\"edge\">\n",
       "<title>x1-&gt;x2</title>\n",
       "<g id=\"a_edge3\"><a xlink:title=\"1 → 2\">\n",
       "<path fill=\"none\" stroke=\"#4a4a4a\" d=\"M111.08,-74.5C101.23,-64.92 88.14,-52.19 76.97,-41.34\"/>\n",
       "<polygon fill=\"#4a4a4a\" stroke=\"#4a4a4a\" points=\"79.59,-39 69.98,-34.54 74.71,-44.02 79.59,-39\"/>\n",
       "</a>\n",
       "</g>\n",
       "</g>\n",
       "<!-- x0 -->\n",
       "<g id=\"node6\" class=\"node\">\n",
       "<title>x0</title>\n",
       "<g id=\"a_node6\"><a xlink:title=\"(0) x0\">\n",
       "<ellipse fill=\"#404040\" stroke=\"#4a4a4a\" cx=\"27\" cy=\"-162\" rx=\"27\" ry=\"18\"/>\n",
       "<text text-anchor=\"middle\" x=\"27\" y=\"-157.32\" font-family=\"Times,serif\" font-size=\"14.00\" fill=\"white\">x0</text>\n",
       "</a>\n",
       "</g>\n",
       "</g>\n",
       "<!-- x0&#45;&gt;x1 -->\n",
       "<g id=\"edge1\" class=\"edge\">\n",
       "<title>x0-&gt;x1</title>\n",
       "<g id=\"a_edge1\"><a xlink:title=\"0 → 1\">\n",
       "<path fill=\"none\" stroke=\"#4a4a4a\" d=\"M45.16,-148.16C60.23,-137.5 81.89,-122.19 98.99,-110.1\"/>\n",
       "<polygon fill=\"#4a4a4a\" stroke=\"#4a4a4a\" points=\"100.58,-113.26 106.72,-104.63 96.54,-107.55 100.58,-113.26\"/>\n",
       "</a>\n",
       "</g>\n",
       "</g>\n",
       "<!-- x0&#45;&gt;x2 -->\n",
       "<g id=\"edge7\" class=\"edge\">\n",
       "<title>x0-&gt;x2</title>\n",
       "<g id=\"a_edge7\"><a xlink:title=\"0 → 2\">\n",
       "<path fill=\"none\" stroke=\"#4a4a4a\" d=\"M21.45,-144.21C16.31,-126.02 10.51,-96.34 18,-72 21.18,-61.65 27.15,-51.51 33.33,-42.91\"/>\n",
       "<polygon fill=\"#4a4a4a\" stroke=\"#4a4a4a\" points=\"35.99,-45.19 39.33,-35.13 30.45,-40.91 35.99,-45.19\"/>\n",
       "</a>\n",
       "</g>\n",
       "</g>\n",
       "</g>\n",
       "</svg>"
      ],
      "text/plain": [
       "(pyAgrum.BayesNet@0x5ec59aaeee70) BN{nodes: 7, arcs: 7, domainSize: 128, dim: 20, mem: 320o}"
      ]
     },
     "execution_count": 4,
     "metadata": {},
     "output_type": "execute_result"
    }
   ],
   "source": [
    "dbn = gum.fastBN(\"x0->x1; x0->x2<-x1 ;y0->y2<-x1 ;y1->x1 ; z -> x2\")\n",
    "dbn"
   ]
  },
  {
   "cell_type": "code",
   "execution_count": 5,
   "metadata": {},
   "outputs": [
    {
     "data": {
      "image/svg+xml": [
       "<svg xmlns=\"http://www.w3.org/2000/svg\" xmlns:xlink=\"http://www.w3.org/1999/xlink\" width=\"353pt\" height=\"191pt\" viewBox=\"0.00 0.00 352.50 191.00\">\n",
       "<g id=\"graph0\" class=\"graph\" transform=\"scale(1 1) rotate(0) translate(4 187)\">\n",
       "<title>G</title>\n",
       "<g id=\"clust1\" class=\"cluster\">\n",
       "<title>cluster_0</title>\n",
       "<polygon fill=\"#dddddd\" stroke=\"black\" points=\"0,-8 0,-139 101.5,-139 101.5,-8 0,-8\"/>\n",
       "<text text-anchor=\"middle\" x=\"50.75\" y=\"-121.7\" font-family=\"Times,serif\" font-size=\"14.00\">Time slice 0</text>\n",
       "</g>\n",
       "<g id=\"clust2\" class=\"cluster\">\n",
       "<title>cluster_1</title>\n",
       "<polygon fill=\"#dddddd\" stroke=\"black\" points=\"121.5,-8 121.5,-139 223,-139 223,-8 121.5,-8\"/>\n",
       "<text text-anchor=\"middle\" x=\"172.25\" y=\"-121.7\" font-family=\"Times,serif\" font-size=\"14.00\">Time slice 1</text>\n",
       "</g>\n",
       "<g id=\"clust3\" class=\"cluster\">\n",
       "<title>cluster_2</title>\n",
       "<polygon fill=\"#dddddd\" stroke=\"black\" points=\"243,-8 243,-139 344.5,-139 344.5,-8 243,-8\"/>\n",
       "<text text-anchor=\"middle\" x=\"293.75\" y=\"-121.7\" font-family=\"Times,serif\" font-size=\"14.00\">Time slice 2</text>\n",
       "</g>\n",
       "<!-- z -->\n",
       "<g id=\"node1\" class=\"node\">\n",
       "<title>z</title>\n",
       "<ellipse fill=\"white\" stroke=\"#4a4a4a\" cx=\"50.25\" cy=\"-165\" rx=\"27\" ry=\"18\"/>\n",
       "<text text-anchor=\"middle\" x=\"50.25\" y=\"-160.32\" font-family=\"Times,serif\" font-size=\"14.00\" fill=\"#4a4a4a\">z</text>\n",
       "</g>\n",
       "<!-- x2 -->\n",
       "<g id=\"node6\" class=\"node\">\n",
       "<title>x2</title>\n",
       "<ellipse fill=\"white\" stroke=\"#000000\" cx=\"293.25\" cy=\"-34\" rx=\"27\" ry=\"18\"/>\n",
       "<text text-anchor=\"middle\" x=\"293.25\" y=\"-29.32\" font-family=\"Times,serif\" font-size=\"14.00\" fill=\"#4a4a4a\">x</text>\n",
       "</g>\n",
       "<!-- z&#45;&gt;x2 -->\n",
       "<g id=\"edge2\" class=\"edge\">\n",
       "<title>z-&gt;x2</title>\n",
       "<path fill=\"none\" stroke=\"#4a4a4a\" d=\"M77.39,-165C125.67,-165 221.5,-165 221.5,-165 221.5,-165 221.5,-37.6 221.5,-37.6 221.5,-37.6 255.02,-37.6 255.02,-37.6\"/>\n",
       "<polygon fill=\"#4a4a4a\" stroke=\"#4a4a4a\" points=\"255.02,-41.1 265.02,-37.6 255.02,-34.1 255.02,-41.1\"/>\n",
       "</g>\n",
       "<!-- x0 -->\n",
       "<g id=\"node2\" class=\"node\">\n",
       "<title>x0</title>\n",
       "<ellipse fill=\"white\" stroke=\"#000000\" cx=\"50.25\" cy=\"-34\" rx=\"27\" ry=\"18\"/>\n",
       "<text text-anchor=\"middle\" x=\"50.25\" y=\"-29.32\" font-family=\"Times,serif\" font-size=\"14.00\" fill=\"#4a4a4a\">x</text>\n",
       "</g>\n",
       "<!-- x1 -->\n",
       "<g id=\"node4\" class=\"node\">\n",
       "<title>x1</title>\n",
       "<ellipse fill=\"white\" stroke=\"#000000\" cx=\"171.75\" cy=\"-34\" rx=\"27\" ry=\"18\"/>\n",
       "<text text-anchor=\"middle\" x=\"171.75\" y=\"-29.32\" font-family=\"Times,serif\" font-size=\"14.00\" fill=\"#4a4a4a\">x</text>\n",
       "</g>\n",
       "<!-- x0&#45;&gt;x1 -->\n",
       "<g id=\"edge1\" class=\"edge\">\n",
       "<title>x0-&gt;x1</title>\n",
       "<path fill=\"none\" stroke=\"#4a4a4a\" d=\"M76.02,-28C76.02,-28 134.51,-28 134.51,-28\"/>\n",
       "<polygon fill=\"#4a4a4a\" stroke=\"#4a4a4a\" points=\"134.51,-31.5 144.51,-28 134.51,-24.5 134.51,-31.5\"/>\n",
       "</g>\n",
       "<!-- x0&#45;&gt;x1 -->\n",
       "<!-- x0&#45;&gt;x2 -->\n",
       "<g id=\"edge7\" class=\"edge\">\n",
       "<title>x0-&gt;x2</title>\n",
       "<path fill=\"none\" stroke=\"#4a4a4a\" d=\"M59.5,-51.19C59.5,-55.03 59.5,-58 59.5,-58 59.5,-58 284.5,-58 284.5,-58 284.5,-58 284.5,-57.34 284.5,-57.34\"/>\n",
       "<polygon fill=\"#4a4a4a\" stroke=\"#4a4a4a\" points=\"288,-62.96 284.5,-52.96 281,-62.96 288,-62.96\"/>\n",
       "</g>\n",
       "<!-- y0 -->\n",
       "<g id=\"node3\" class=\"node\">\n",
       "<title>y0</title>\n",
       "<ellipse fill=\"white\" stroke=\"#000000\" cx=\"50.25\" cy=\"-88\" rx=\"27\" ry=\"18\"/>\n",
       "<text text-anchor=\"middle\" x=\"50.25\" y=\"-83.33\" font-family=\"Times,serif\" font-size=\"14.00\" fill=\"#4a4a4a\">y</text>\n",
       "</g>\n",
       "<!-- y1 -->\n",
       "<g id=\"node5\" class=\"node\">\n",
       "<title>y1</title>\n",
       "<ellipse fill=\"white\" stroke=\"#000000\" cx=\"171.75\" cy=\"-88\" rx=\"27\" ry=\"18\"/>\n",
       "<text text-anchor=\"middle\" x=\"171.75\" y=\"-83.33\" font-family=\"Times,serif\" font-size=\"14.00\" fill=\"#4a4a4a\">y</text>\n",
       "</g>\n",
       "<!-- y0&#45;&gt;y1 -->\n",
       "<!-- y2 -->\n",
       "<g id=\"node7\" class=\"node\">\n",
       "<title>y2</title>\n",
       "<ellipse fill=\"white\" stroke=\"#000000\" cx=\"293.25\" cy=\"-88\" rx=\"27\" ry=\"18\"/>\n",
       "<text text-anchor=\"middle\" x=\"293.25\" y=\"-83.33\" font-family=\"Times,serif\" font-size=\"14.00\" fill=\"#4a4a4a\">y</text>\n",
       "</g>\n",
       "<!-- y0&#45;&gt;y2 -->\n",
       "<g id=\"edge4\" class=\"edge\">\n",
       "<title>y0-&gt;y2</title>\n",
       "<path fill=\"none\" stroke=\"#4a4a4a\" d=\"M41.5,-70.56C41.5,-66.84 41.5,-64 41.5,-64 41.5,-64 302.5,-64 302.5,-64 302.5,-64 302.5,-64.68 302.5,-64.68\"/>\n",
       "<polygon fill=\"#4a4a4a\" stroke=\"#4a4a4a\" points=\"299,-59.3 302.5,-69.3 306,-59.3 299,-59.3\"/>\n",
       "</g>\n",
       "<!-- x1&#45;&gt;x2 -->\n",
       "<g id=\"edge3\" class=\"edge\">\n",
       "<title>x1-&gt;x2</title>\n",
       "<path fill=\"none\" stroke=\"#4a4a4a\" d=\"M194.03,-23.2C194.03,-23.2 259.59,-23.2 259.59,-23.2\"/>\n",
       "<polygon fill=\"#4a4a4a\" stroke=\"#4a4a4a\" points=\"259.59,-26.7 269.59,-23.2 259.59,-19.7 259.59,-26.7\"/>\n",
       "</g>\n",
       "<!-- x1&#45;&gt;x2 -->\n",
       "<!-- x1&#45;&gt;y2 -->\n",
       "<g id=\"edge6\" class=\"edge\">\n",
       "<title>x1-&gt;y2</title>\n",
       "<path fill=\"none\" stroke=\"#4a4a4a\" d=\"M194.06,-44.8C215.12,-44.8 243.5,-44.8 243.5,-44.8 243.5,-44.8 243.5,-82 243.5,-82 243.5,-82 255.99,-82 255.99,-82\"/>\n",
       "<polygon fill=\"#4a4a4a\" stroke=\"#4a4a4a\" points=\"255.99,-85.5 265.99,-82 255.99,-78.5 255.99,-85.5\"/>\n",
       "</g>\n",
       "<!-- y1&#45;&gt;x1 -->\n",
       "<g id=\"edge5\" class=\"edge\">\n",
       "<title>y1-&gt;x1</title>\n",
       "<path fill=\"none\" stroke=\"#4a4a4a\" d=\"M171.5,-69.72C171.5,-69.72 171.5,-63.78 171.5,-63.78\"/>\n",
       "<polygon fill=\"#4a4a4a\" stroke=\"#4a4a4a\" points=\"175,-63.78 171.5,-53.78 168,-63.78 175,-63.78\"/>\n",
       "</g>\n",
       "<!-- y1&#45;&gt;y2 -->\n",
       "</g>\n",
       "</svg>"
      ],
      "text/plain": [
       "<IPython.core.display.SVG object>"
      ]
     },
     "metadata": {},
     "output_type": "display_data"
    }
   ],
   "source": [
    "gdyn.showTimeSlices(dbn)"
   ]
  },
  {
   "cell_type": "code",
   "execution_count": 6,
   "metadata": {},
   "outputs": [
    {
     "ename": "TypeError",
     "evalue": "split_name() missing 1 required positional argument: 'delimiter'",
     "output_type": "error",
     "traceback": [
      "\u001b[31m---------------------------------------------------------------------------\u001b[39m",
      "\u001b[31mTypeError\u001b[39m                                 Traceback (most recent call last)",
      "\u001b[36mCell\u001b[39m\u001b[36m \u001b[39m\u001b[32mIn[6]\u001b[39m\u001b[32m, line 1\u001b[39m\n\u001b[32m----> \u001b[39m\u001b[32m1\u001b[39m unrolled = \u001b[43mktbn\u001b[49m\u001b[43m.\u001b[49m\u001b[43munrollKTBN\u001b[49m\u001b[43m(\u001b[49m\u001b[43mdbn\u001b[49m\u001b[43m,\u001b[49m\u001b[32;43m5\u001b[39;49m\u001b[43m)\u001b[49m\n\u001b[32m      2\u001b[39m gdyn.showTimeSlices(unrolled)\n",
      "\u001b[36mFile \u001b[39m\u001b[32m~/Documents/Eskul/Uni/L2/Project/dBN-T-pyAgrum/code/lib/ktbn.py:72\u001b[39m, in \u001b[36munrollKTBN\u001b[39m\u001b[34m(dbn, n)\u001b[39m\n\u001b[32m     61\u001b[39m \u001b[38;5;250m\u001b[39m\u001b[33;03m\"\"\"\u001b[39;00m\n\u001b[32m     62\u001b[39m \u001b[33;03mUnrolls a KTBN for `n` time slices\u001b[39;00m\n\u001b[32m     63\u001b[39m \n\u001b[32m   (...)\u001b[39m\u001b[32m     69\u001b[39m \u001b[33;03m    gum.BayesNet: The unrolled KTBN.\u001b[39;00m\n\u001b[32m     70\u001b[39m \u001b[33;03m\"\"\"\u001b[39;00m\n\u001b[32m     71\u001b[39m \u001b[38;5;66;03m# TODO Entree liste variables, K, et bn (fonctions deviennent methodes)\u001b[39;00m\n\u001b[32m---> \u001b[39m\u001b[32m72\u001b[39m k = \u001b[43mget_k\u001b[49m\u001b[43m(\u001b[49m\u001b[43mdbn\u001b[49m\u001b[43m)\u001b[49m\n\u001b[32m     74\u001b[39m bn = gum.BayesNet()\n\u001b[32m     76\u001b[39m \u001b[38;5;66;03m# Variable creation\u001b[39;00m\n",
      "\u001b[36mFile \u001b[39m\u001b[32m~/Documents/Eskul/Uni/L2/Project/dBN-T-pyAgrum/code/lib/ktbn.py:58\u001b[39m, in \u001b[36mget_k\u001b[39m\u001b[34m(dbn)\u001b[39m\n\u001b[32m     45\u001b[39m \u001b[38;5;28;01mdef\u001b[39;00m\u001b[38;5;250m \u001b[39m\u001b[34mget_k\u001b[39m(dbn: gum.BayesNet) -> \u001b[38;5;28mint\u001b[39m:\n\u001b[32m     46\u001b[39m \u001b[38;5;250m    \u001b[39m\u001b[33;03m\"\"\"\u001b[39;00m\n\u001b[32m     47\u001b[39m \u001b[33;03m    Determines the order `k` of a K-Time-Slice Bayesian Network (K-TBN).\u001b[39;00m\n\u001b[32m     48\u001b[39m \n\u001b[32m   (...)\u001b[39m\u001b[32m     56\u001b[39m \u001b[33;03m        int: The maximum time slice index (`k`) inferred from the variable names.\u001b[39;00m\n\u001b[32m     57\u001b[39m \u001b[33;03m    \"\"\"\u001b[39;00m\n\u001b[32m---> \u001b[39m\u001b[32m58\u001b[39m     \u001b[38;5;28;01mreturn\u001b[39;00m np.max([\u001b[43msplit_name\u001b[49m\u001b[43m(\u001b[49m\u001b[43mname\u001b[49m\u001b[43m)\u001b[49m[\u001b[32m1\u001b[39m] \u001b[38;5;28;01mfor\u001b[39;00m name \u001b[38;5;129;01min\u001b[39;00m dbn.names()])\n",
      "\u001b[31mTypeError\u001b[39m: split_name() missing 1 required positional argument: 'delimiter'"
     ]
    }
   ],
   "source": [
    "unrolled = ktbn.unrollKTBN(dbn,5)\n",
    "gdyn.showTimeSlices(unrolled)"
   ]
  },
  {
   "cell_type": "code",
   "execution_count": 13,
   "metadata": {},
   "outputs": [
    {
     "data": {
      "text/html": [
       "<table style=\"border:1px solid black;border-collapse: collapse;\">\n",
       "<tr><th colspan='2'></th>\n",
       "      <th colspan='2' style='border:1px solid black;color:black;background-color:#808080;'><center>x1</center>\n",
       "      </th></tr>\n",
       "<tr><th style='border:1px solid black;color:black;background-color:#808080'><center>y1</center></th><th style='border:1px solid black;color:black;background-color:#808080'><center>x0</center></th><th style='border:1px solid black;border-bottom-style: double;color:black;background-color:#BBBBBB'>\n",
       "      <center>0</center></th><th style='border:1px solid black;border-bottom-style: double;color:black;background-color:#BBBBBB'>\n",
       "      <center>1</center></th></tr>\n",
       "<tr><th style='border:1px solid black;color:black;background-color:#BBBBBB;' rowspan = '2'>\n",
       "            <center>0</center></th><th style='border:1px solid black;color:black;background-color:#BBBBBB'><center>0</center></th><td style='color:black;background-color:#d5a864;text-align:right;padding: 3px;'>0.3249</td><td style='color:black;background-color:#a8d564;text-align:right;padding: 3px;'>0.6751</td></tr>\n",
       "<tr><th style='border:1px solid black;color:black;background-color:#BBBBBB'><center>1</center></th><td style='color:black;background-color:#c0bd64;text-align:right;padding: 3px;'>0.4867</td><td style='color:black;background-color:#bdc064;text-align:right;padding: 3px;'>0.5133</td></tr>\n",
       "<tr><th style='border:1px solid black;color:black;background-color:#BBBBBB;' rowspan = '2'>\n",
       "            <center>1</center></th><th style='border:1px solid black;color:black;background-color:#BBBBBB'><center>0</center></th><td style='color:black;background-color:#82fb64;text-align:right;padding: 3px;'>0.9753</td><td style='color:black;background-color:#fb8264;text-align:right;padding: 3px;'>0.0247</td></tr>\n",
       "<tr><th style='border:1px solid black;color:black;background-color:#BBBBBB'><center>1</center></th><td style='color:black;background-color:#8cf164;text-align:right;padding: 3px;'>0.8980</td><td style='color:black;background-color:#f18c64;text-align:right;padding: 3px;'>0.1020</td></tr>\n",
       "</table>"
      ],
      "text/plain": [
       "(pyAgrum.Potential@0x5ec59a7c7a80) \n",
       "             ||  x1               |\n",
       "x0    |y1    ||0        |1        |\n",
       "------|------||---------|---------|\n",
       "0     |0     || 0.3249  | 0.6751  |\n",
       "1     |0     || 0.4867  | 0.5133  |\n",
       "0     |1     || 0.9753  | 0.0247  |\n",
       "1     |1     || 0.8980  | 0.1020  |"
      ]
     },
     "execution_count": 13,
     "metadata": {},
     "output_type": "execute_result"
    }
   ],
   "source": [
    "dbn.cpt('x1')"
   ]
  },
  {
   "cell_type": "code",
   "execution_count": 12,
   "metadata": {},
   "outputs": [
    {
     "data": {
      "text/html": [
       "<table style=\"border:1px solid black;border-collapse: collapse;\">\n",
       "<tr><th colspan='2'></th>\n",
       "      <th colspan='2' style='border:1px solid black;color:black;background-color:#808080;'><center>x1</center>\n",
       "      </th></tr>\n",
       "<tr><th style='border:1px solid black;color:black;background-color:#808080'><center>x0</center></th><th style='border:1px solid black;color:black;background-color:#808080'><center>y1</center></th><th style='border:1px solid black;border-bottom-style: double;color:black;background-color:#BBBBBB'>\n",
       "      <center>0</center></th><th style='border:1px solid black;border-bottom-style: double;color:black;background-color:#BBBBBB'>\n",
       "      <center>1</center></th></tr>\n",
       "<tr><th style='border:1px solid black;color:black;background-color:#BBBBBB;' rowspan = '2'>\n",
       "            <center>0</center></th><th style='border:1px solid black;color:black;background-color:#BBBBBB'><center>0</center></th><td style='color:black;background-color:#e99464;text-align:right;padding: 3px;'>0.1674</td><td style='color:black;background-color:#94e964;text-align:right;padding: 3px;'>0.8326</td></tr>\n",
       "<tr><th style='border:1px solid black;color:black;background-color:#BBBBBB'><center>1</center></th><td style='color:black;background-color:#daa364;text-align:right;padding: 3px;'>0.2885</td><td style='color:black;background-color:#a3da64;text-align:right;padding: 3px;'>0.7115</td></tr>\n",
       "<tr><th style='border:1px solid black;color:black;background-color:#BBBBBB;' rowspan = '2'>\n",
       "            <center>1</center></th><th style='border:1px solid black;color:black;background-color:#BBBBBB'><center>0</center></th><td style='color:black;background-color:#d0ad64;text-align:right;padding: 3px;'>0.3662</td><td style='color:black;background-color:#add064;text-align:right;padding: 3px;'>0.6338</td></tr>\n",
       "<tr><th style='border:1px solid black;color:black;background-color:#BBBBBB'><center>1</center></th><td style='color:black;background-color:#c6b764;text-align:right;padding: 3px;'>0.4417</td><td style='color:black;background-color:#b7c664;text-align:right;padding: 3px;'>0.5583</td></tr>\n",
       "</table>"
      ],
      "text/plain": [
       "(pyAgrum.Potential@0x5ec59999f390) \n",
       "             ||  x1               |\n",
       "y1    |x0    ||0        |1        |\n",
       "------|------||---------|---------|\n",
       "0     |0     || 0.1674  | 0.8326  |\n",
       "1     |0     || 0.2885  | 0.7115  |\n",
       "0     |1     || 0.3662  | 0.6338  |\n",
       "1     |1     || 0.4417  | 0.5583  |"
      ]
     },
     "execution_count": 12,
     "metadata": {},
     "output_type": "execute_result"
    }
   ],
   "source": [
    "dbn2 = gum.fastBN('y1->x1<-x0')\n",
    "dbn2.cpt('x1')"
   ]
  },
  {
   "cell_type": "code",
   "execution_count": 14,
   "metadata": {},
   "outputs": [
    {
     "data": {
      "text/html": [
       "<table style=\"border:1px solid black;border-collapse: collapse;\">\n",
       "<tr><th colspan='2'></th>\n",
       "      <th colspan='2' style='border:1px solid black;color:black;background-color:#808080;'><center>x1</center>\n",
       "      </th></tr>\n",
       "<tr><th style='border:1px solid black;color:black;background-color:#808080'><center>x0</center></th><th style='border:1px solid black;color:black;background-color:#808080'><center>y1</center></th><th style='border:1px solid black;border-bottom-style: double;color:black;background-color:#BBBBBB'>\n",
       "      <center>0</center></th><th style='border:1px solid black;border-bottom-style: double;color:black;background-color:#BBBBBB'>\n",
       "      <center>1</center></th></tr>\n",
       "<tr><th style='border:1px solid black;color:black;background-color:#BBBBBB;' rowspan = '2'>\n",
       "            <center>0</center></th><th style='border:1px solid black;color:black;background-color:#BBBBBB'><center>0</center></th><td style='color:black;background-color:#d5a864;text-align:right;padding: 3px;'>0.3249</td><td style='color:black;background-color:#a8d564;text-align:right;padding: 3px;'>0.6751</td></tr>\n",
       "<tr><th style='border:1px solid black;color:black;background-color:#BBBBBB'><center>1</center></th><td style='color:black;background-color:#82fb64;text-align:right;padding: 3px;'>0.9753</td><td style='color:black;background-color:#fb8264;text-align:right;padding: 3px;'>0.0247</td></tr>\n",
       "<tr><th style='border:1px solid black;color:black;background-color:#BBBBBB;' rowspan = '2'>\n",
       "            <center>1</center></th><th style='border:1px solid black;color:black;background-color:#BBBBBB'><center>0</center></th><td style='color:black;background-color:#c0bd64;text-align:right;padding: 3px;'>0.4867</td><td style='color:black;background-color:#bdc064;text-align:right;padding: 3px;'>0.5133</td></tr>\n",
       "<tr><th style='border:1px solid black;color:black;background-color:#BBBBBB'><center>1</center></th><td style='color:black;background-color:#8cf164;text-align:right;padding: 3px;'>0.8980</td><td style='color:black;background-color:#f18c64;text-align:right;padding: 3px;'>0.1020</td></tr>\n",
       "</table>"
      ],
      "text/plain": [
       "(pyAgrum.Potential@0x5ec59999f390) \n",
       "             ||  x1               |\n",
       "y1    |x0    ||0        |1        |\n",
       "------|------||---------|---------|\n",
       "0     |0     || 0.3249  | 0.6751  |\n",
       "1     |0     || 0.9753  | 0.0247  |\n",
       "0     |1     || 0.4867  | 0.5133  |\n",
       "1     |1     || 0.8980  | 0.1020  |"
      ]
     },
     "execution_count": 14,
     "metadata": {},
     "output_type": "execute_result"
    }
   ],
   "source": [
    "dbn2.cpt('x1').fillWith(dbn.cpt('x1'), dbn2.cpt('x1').names)\n",
    "dbn2.cpt('x1')"
   ]
  }
 ],
 "metadata": {
  "kernelspec": {
   "display_name": ".venv",
   "language": "python",
   "name": "python3"
  },
  "language_info": {
   "codemirror_mode": {
    "name": "ipython",
    "version": 3
   },
   "file_extension": ".py",
   "mimetype": "text/x-python",
   "name": "python",
   "nbconvert_exporter": "python",
   "pygments_lexer": "ipython3",
   "version": "3.13.2"
  }
 },
 "nbformat": 4,
 "nbformat_minor": 2
}
