{
 "cells": [
  {
   "cell_type": "code",
   "execution_count": 1,
   "id": "47182faf",
   "metadata": {
    "scrolled": true
   },
   "outputs": [],
   "source": [
    "import pandas as pd"
   ]
  },
  {
   "cell_type": "code",
   "execution_count": 2,
   "id": "e67c14f9",
   "metadata": {},
   "outputs": [],
   "source": [
    "import pyAgrum as gum\n",
    "import pyAgrum.lib.notebook as gnb"
   ]
  },
  {
   "cell_type": "code",
   "execution_count": 9,
   "id": "3737b254",
   "metadata": {},
   "outputs": [],
   "source": [
    "# Changement de la BD\n",
    "data = pd.read_csv(\"data_bn.csv\")"
   ]
  },
  {
   "cell_type": "code",
   "execution_count": 22,
   "id": "d8e6a6f3-fec7-403d-8298-ee4207f921e5",
   "metadata": {},
   "outputs": [],
   "source": [
    "# Les informations contenues dans la BD sont\n",
    "# sex: Genre (male/female)\n",
    "# age: Âge catégorisé (young/adult/old)\n",
    "# urbanization: Niveau d'urbanisation (low/medium/high)\n",
    "# education: Niveau d'éducation (low/high)\n",
    "# geographic_area: Zone géographique (north/centre/south/islands) - probablement des régions d'Italie\n",
    "# allergy: Présence d'allergie (yes/no)\n",
    "# smoke: Statut tabagique (yes/no)\n",
    "# sedentary: Mode de vie sédentaire (yes/no)\n",
    "# asthma: Présence d'asthme (yes/no)"
   ]
  },
  {
   "cell_type": "code",
   "execution_count": 23,
   "id": "8804fb48",
   "metadata": {},
   "outputs": [],
   "source": [
    "# Convertir la BD pour pyAgrum\n",
    "learner = gum.BNLearner(data)"
   ]
  },
  {
   "cell_type": "code",
   "execution_count": 24,
   "id": "af921034",
   "metadata": {},
   "outputs": [
    {
     "name": "stdout",
     "output_type": "stream",
     "text": [
      "J'utilise le score AIC\n"
     ]
    },
    {
     "data": {
      "text/plain": [
       "(pyAgrum.BNLearner@0x15d04090) Filename       : /tmp/tmpc05fg9uq.csv\n",
       "Size           : (2755,9)\n",
       "Variables      : sex[2], age[3], urbanization[3], education[2], geographic_area[3], allergy[2], smoke[2], sedentary[2], asthma[2]\n",
       "Induced types  : True\n",
       "Missing values : False\n",
       "Algorithm      : MIIC\n",
       "Correction     : MDL\n",
       "Prior          : -"
      ]
     },
     "execution_count": 24,
     "metadata": {},
     "output_type": "execute_result"
    }
   ],
   "source": [
    "# Je décide du score que je vais utiliser\n",
    "print(\"J'utilise le score AIC\")\n",
    "learner.useScoreAIC()  # ou useScoreBD() ou useScoreBIC() ou useScoreK2()"
   ]
  },
  {
   "cell_type": "code",
   "execution_count": 25,
   "id": "021395e0",
   "metadata": {},
   "outputs": [
    {
     "name": "stdout",
     "output_type": "stream",
     "text": [
      "Le réseau a été appris\n"
     ]
    }
   ],
   "source": [
    "# Apprentisage du réseau\n",
    "bnfumeur = learner.learnBN()\n",
    "print(\"Le réseau a été appris\")"
   ]
  },
  {
   "cell_type": "code",
   "execution_count": 26,
   "id": "0d6a5f3c",
   "metadata": {},
   "outputs": [
    {
     "name": "stdout",
     "output_type": "stream",
     "text": [
      "\n",
      "Informations sur le réseau bayésien appris:\n",
      "Nombre de nœuds: 9\n",
      "Nombre d'arcs: 13\n",
      "Nœuds du réseau: {'asthma', 'age', 'urbanization', 'smoke', 'sex', 'allergy', 'geographic_area', 'education', 'sedentary'}\n"
     ]
    }
   ],
   "source": [
    "# Je print les infos sur le réseau appris\n",
    "print(\"\\nInformations sur le réseau bayésien appris:\")\n",
    "print(f\"Nombre de nœuds: {bnfumeur.size()}\")\n",
    "print(f\"Nombre d'arcs: {bnfumeur.sizeArcs()}\")\n",
    "print(f\"Nœuds du réseau: {bnfumeur.names()}\")"
   ]
  },
  {
   "cell_type": "code",
   "execution_count": 27,
   "id": "6a4984f6",
   "metadata": {},
   "outputs": [
    {
     "data": {
      "image/svg+xml": [
       "<svg xmlns=\"http://www.w3.org/2000/svg\" xmlns:xlink=\"http://www.w3.org/1999/xlink\" width=\"317pt\" height=\"360pt\" viewBox=\"0.00 0.00 316.72 360.00\">\n",
       "<g id=\"graph0\" class=\"graph\" transform=\"scale(0.89 0.89) rotate(0) translate(4 400)\">\n",
       "<title>G</title>\n",
       "<!-- asthma -->\n",
       "<g id=\"node1\" class=\"node\">\n",
       "<title>asthma</title>\n",
       "<g id=\"a_node1\"><a xlink:title=\"(8) asthma\">\n",
       "<ellipse fill=\"#404040\" stroke=\"#4a4a4a\" cx=\"44.85\" cy=\"-306\" rx=\"44.69\" ry=\"18\"/>\n",
       "<text text-anchor=\"middle\" x=\"44.85\" y=\"-302.3\" font-family=\"Times,serif\" font-size=\"14.00\" fill=\"white\">asthma</text>\n",
       "</a>\n",
       "</g>\n",
       "</g>\n",
       "<!-- age -->\n",
       "<g id=\"node2\" class=\"node\">\n",
       "<title>age</title>\n",
       "<g id=\"a_node2\"><a xlink:title=\"(1) age\">\n",
       "<ellipse fill=\"#404040\" stroke=\"#4a4a4a\" cx=\"216.85\" cy=\"-162\" rx=\"27.1\" ry=\"18\"/>\n",
       "<text text-anchor=\"middle\" x=\"216.85\" y=\"-158.3\" font-family=\"Times,serif\" font-size=\"14.00\" fill=\"white\">age</text>\n",
       "</a>\n",
       "</g>\n",
       "</g>\n",
       "<!-- asthma&#45;&gt;age -->\n",
       "<g id=\"edge2\" class=\"edge\">\n",
       "<title>asthma-&gt;age</title>\n",
       "<g id=\"a_edge2\"><a xlink:title=\"8 → 1\">\n",
       "<path fill=\"none\" stroke=\"#4a4a4a\" d=\"M43.69,-287.97C43.31,-268.17 45.82,-235.69 63.85,-216 100.58,-175.87 130.12,-199.67 180.85,-180 182.68,-179.29 184.56,-178.52 186.44,-177.73\"/>\n",
       "<polygon fill=\"#4a4a4a\" stroke=\"#4a4a4a\" points=\"188.04,-180.85 195.74,-173.58 185.19,-174.45 188.04,-180.85\"/>\n",
       "</a>\n",
       "</g>\n",
       "</g>\n",
       "<!-- allergy -->\n",
       "<g id=\"node6\" class=\"node\">\n",
       "<title>allergy</title>\n",
       "<g id=\"a_node6\"><a xlink:title=\"(5) allergy\">\n",
       "<ellipse fill=\"#404040\" stroke=\"#4a4a4a\" cx=\"212.85\" cy=\"-90\" rx=\"42.79\" ry=\"18\"/>\n",
       "<text text-anchor=\"middle\" x=\"212.85\" y=\"-86.3\" font-family=\"Times,serif\" font-size=\"14.00\" fill=\"white\">allergy</text>\n",
       "</a>\n",
       "</g>\n",
       "</g>\n",
       "<!-- asthma&#45;&gt;allergy -->\n",
       "<g id=\"edge13\" class=\"edge\">\n",
       "<title>asthma-&gt;allergy</title>\n",
       "<g id=\"a_edge13\"><a xlink:title=\"8 → 5\">\n",
       "<path fill=\"none\" stroke=\"#4a4a4a\" d=\"M35.27,-287.93C18.84,-256.13 -9.91,-187.14 22.85,-144 39.7,-121.8 111.95,-106.4 162.32,-98.13\"/>\n",
       "<polygon fill=\"#4a4a4a\" stroke=\"#4a4a4a\" points=\"163.07,-101.56 172.4,-96.53 161.97,-94.65 163.07,-101.56\"/>\n",
       "</a>\n",
       "</g>\n",
       "</g>\n",
       "<!-- education -->\n",
       "<g id=\"node8\" class=\"node\">\n",
       "<title>education</title>\n",
       "<g id=\"a_node8\"><a xlink:title=\"(3) education\">\n",
       "<ellipse fill=\"#404040\" stroke=\"#4a4a4a\" cx=\"128.85\" cy=\"-234\" rx=\"55.79\" ry=\"18\"/>\n",
       "<text text-anchor=\"middle\" x=\"128.85\" y=\"-230.3\" font-family=\"Times,serif\" font-size=\"14.00\" fill=\"white\">education</text>\n",
       "</a>\n",
       "</g>\n",
       "</g>\n",
       "<!-- asthma&#45;&gt;education -->\n",
       "<g id=\"edge9\" class=\"edge\">\n",
       "<title>asthma-&gt;education</title>\n",
       "<g id=\"a_edge9\"><a xlink:title=\"8 → 3\">\n",
       "<path fill=\"none\" stroke=\"#4a4a4a\" d=\"M63.49,-289.46C74.75,-280.08 89.29,-267.96 101.8,-257.54\"/>\n",
       "<polygon fill=\"#4a4a4a\" stroke=\"#4a4a4a\" points=\"104.23,-260.07 109.67,-250.98 99.75,-254.69 104.23,-260.07\"/>\n",
       "</a>\n",
       "</g>\n",
       "</g>\n",
       "<!-- age&#45;&gt;allergy -->\n",
       "<g id=\"edge3\" class=\"edge\">\n",
       "<title>age-&gt;allergy</title>\n",
       "<g id=\"a_edge3\"><a xlink:title=\"1 → 5\">\n",
       "<path fill=\"none\" stroke=\"#4a4a4a\" d=\"M215.86,-143.7C215.42,-135.98 214.89,-126.71 214.4,-118.11\"/>\n",
       "<polygon fill=\"#4a4a4a\" stroke=\"#4a4a4a\" points=\"217.89,-117.89 213.82,-108.1 210.9,-118.29 217.89,-117.89\"/>\n",
       "</a>\n",
       "</g>\n",
       "</g>\n",
       "<!-- urbanization -->\n",
       "<g id=\"node3\" class=\"node\">\n",
       "<title>urbanization</title>\n",
       "<g id=\"a_node3\"><a xlink:title=\"(2) urbanization\">\n",
       "<ellipse fill=\"#404040\" stroke=\"#4a4a4a\" cx=\"101.85\" cy=\"-162\" rx=\"69.59\" ry=\"18\"/>\n",
       "<text text-anchor=\"middle\" x=\"101.85\" y=\"-158.3\" font-family=\"Times,serif\" font-size=\"14.00\" fill=\"white\">urbanization</text>\n",
       "</a>\n",
       "</g>\n",
       "</g>\n",
       "<!-- smoke -->\n",
       "<g id=\"node4\" class=\"node\">\n",
       "<title>smoke</title>\n",
       "<g id=\"a_node4\"><a xlink:title=\"(6) smoke\">\n",
       "<ellipse fill=\"#404040\" stroke=\"#4a4a4a\" cx=\"280.85\" cy=\"-234\" rx=\"40.09\" ry=\"18\"/>\n",
       "<text text-anchor=\"middle\" x=\"280.85\" y=\"-230.3\" font-family=\"Times,serif\" font-size=\"14.00\" fill=\"white\">smoke</text>\n",
       "</a>\n",
       "</g>\n",
       "</g>\n",
       "<!-- smoke&#45;&gt;age -->\n",
       "<g id=\"edge4\" class=\"edge\">\n",
       "<title>smoke-&gt;age</title>\n",
       "<g id=\"a_edge4\"><a xlink:title=\"6 → 1\">\n",
       "<path fill=\"none\" stroke=\"#4a4a4a\" d=\"M266.32,-217.12C257.74,-207.73 246.74,-195.7 237.29,-185.36\"/>\n",
       "<polygon fill=\"#4a4a4a\" stroke=\"#4a4a4a\" points=\"239.77,-182.88 230.44,-177.86 234.6,-187.61 239.77,-182.88\"/>\n",
       "</a>\n",
       "</g>\n",
       "</g>\n",
       "<!-- sex -->\n",
       "<g id=\"node5\" class=\"node\">\n",
       "<title>sex</title>\n",
       "<g id=\"a_node5\"><a xlink:title=\"(0) sex\">\n",
       "<ellipse fill=\"#404040\" stroke=\"#4a4a4a\" cx=\"283.85\" cy=\"-18\" rx=\"27\" ry=\"18\"/>\n",
       "<text text-anchor=\"middle\" x=\"283.85\" y=\"-14.3\" font-family=\"Times,serif\" font-size=\"14.00\" fill=\"white\">sex</text>\n",
       "</a>\n",
       "</g>\n",
       "</g>\n",
       "<!-- smoke&#45;&gt;sex -->\n",
       "<g id=\"edge11\" class=\"edge\">\n",
       "<title>smoke-&gt;sex</title>\n",
       "<g id=\"a_edge11\"><a xlink:title=\"6 → 0\">\n",
       "<path fill=\"none\" stroke=\"#4a4a4a\" d=\"M281.09,-215.85C281.61,-178.83 282.83,-91.18 283.46,-46.39\"/>\n",
       "<polygon fill=\"#4a4a4a\" stroke=\"#4a4a4a\" points=\"286.96,-46.28 283.6,-36.23 279.96,-46.18 286.96,-46.28\"/>\n",
       "</a>\n",
       "</g>\n",
       "</g>\n",
       "<!-- allergy&#45;&gt;sex -->\n",
       "<g id=\"edge10\" class=\"edge\">\n",
       "<title>allergy-&gt;sex</title>\n",
       "<g id=\"a_edge10\"><a xlink:title=\"5 → 0\">\n",
       "<path fill=\"none\" stroke=\"#4a4a4a\" d=\"M228.96,-73.12C238.7,-63.51 251.26,-51.13 261.9,-40.63\"/>\n",
       "<polygon fill=\"#4a4a4a\" stroke=\"#4a4a4a\" points=\"264.58,-42.91 269.25,-33.39 259.67,-37.92 264.58,-42.91\"/>\n",
       "</a>\n",
       "</g>\n",
       "</g>\n",
       "<!-- geographic_area -->\n",
       "<g id=\"node7\" class=\"node\">\n",
       "<title>geographic_area</title>\n",
       "<g id=\"a_node7\"><a xlink:title=\"(4) geographic_area\">\n",
       "<ellipse fill=\"#404040\" stroke=\"#4a4a4a\" cx=\"212.85\" cy=\"-378\" rx=\"87.18\" ry=\"18\"/>\n",
       "<text text-anchor=\"middle\" x=\"212.85\" y=\"-374.3\" font-family=\"Times,serif\" font-size=\"14.00\" fill=\"white\">geographic_area</text>\n",
       "</a>\n",
       "</g>\n",
       "</g>\n",
       "<!-- sedentary -->\n",
       "<g id=\"node9\" class=\"node\">\n",
       "<title>sedentary</title>\n",
       "<g id=\"a_node9\"><a xlink:title=\"(7) sedentary\">\n",
       "<ellipse fill=\"#404040\" stroke=\"#4a4a4a\" cx=\"212.85\" cy=\"-306\" rx=\"57.39\" ry=\"18\"/>\n",
       "<text text-anchor=\"middle\" x=\"212.85\" y=\"-302.3\" font-family=\"Times,serif\" font-size=\"14.00\" fill=\"white\">sedentary</text>\n",
       "</a>\n",
       "</g>\n",
       "</g>\n",
       "<!-- geographic_area&#45;&gt;sedentary -->\n",
       "<g id=\"edge8\" class=\"edge\">\n",
       "<title>geographic_area-&gt;sedentary</title>\n",
       "<g id=\"a_edge8\"><a xlink:title=\"4 → 7\">\n",
       "<path fill=\"none\" stroke=\"#4a4a4a\" d=\"M212.85,-359.7C212.85,-351.98 212.85,-342.71 212.85,-334.11\"/>\n",
       "<polygon fill=\"#4a4a4a\" stroke=\"#4a4a4a\" points=\"216.35,-334.1 212.85,-324.1 209.35,-334.1 216.35,-334.1\"/>\n",
       "</a>\n",
       "</g>\n",
       "</g>\n",
       "<!-- education&#45;&gt;age -->\n",
       "<g id=\"edge5\" class=\"edge\">\n",
       "<title>education-&gt;age</title>\n",
       "<g id=\"a_edge5\"><a xlink:title=\"3 → 1\">\n",
       "<path fill=\"none\" stroke=\"#4a4a4a\" d=\"M148.81,-217.12C161.58,-206.96 178.24,-193.71 191.88,-182.86\"/>\n",
       "<polygon fill=\"#4a4a4a\" stroke=\"#4a4a4a\" points=\"194.27,-185.43 199.92,-176.47 189.91,-179.95 194.27,-185.43\"/>\n",
       "</a>\n",
       "</g>\n",
       "</g>\n",
       "<!-- education&#45;&gt;urbanization -->\n",
       "<g id=\"edge12\" class=\"edge\">\n",
       "<title>education-&gt;urbanization</title>\n",
       "<g id=\"a_edge12\"><a xlink:title=\"3 → 2\">\n",
       "<path fill=\"none\" stroke=\"#4a4a4a\" d=\"M122.31,-216.05C119.27,-208.18 115.58,-198.62 112.18,-189.79\"/>\n",
       "<polygon fill=\"#4a4a4a\" stroke=\"#4a4a4a\" points=\"115.37,-188.35 108.51,-180.28 108.84,-190.86 115.37,-188.35\"/>\n",
       "</a>\n",
       "</g>\n",
       "</g>\n",
       "<!-- sedentary&#45;&gt;age -->\n",
       "<g id=\"edge1\" class=\"edge\">\n",
       "<title>sedentary-&gt;age</title>\n",
       "<g id=\"a_edge1\"><a xlink:title=\"7 → 1\">\n",
       "<path fill=\"none\" stroke=\"#4a4a4a\" d=\"M213.33,-287.87C214.01,-263.67 215.26,-219.21 216.07,-190.39\"/>\n",
       "<polygon fill=\"#4a4a4a\" stroke=\"#4a4a4a\" points=\"219.58,-190.28 216.36,-180.19 212.58,-190.09 219.58,-190.28\"/>\n",
       "</a>\n",
       "</g>\n",
       "</g>\n",
       "<!-- sedentary&#45;&gt;sex -->\n",
       "<g id=\"edge6\" class=\"edge\">\n",
       "<title>sedentary-&gt;sex</title>\n",
       "<g id=\"a_edge6\"><a xlink:title=\"7 → 0\">\n",
       "<path fill=\"none\" stroke=\"#4a4a4a\" d=\"M260.94,-296.15C286.04,-288.82 314.62,-275.61 329.85,-252 372.51,-185.84 325.95,-88.77 299.52,-43.69\"/>\n",
       "<polygon fill=\"#4a4a4a\" stroke=\"#4a4a4a\" points=\"302.38,-41.66 294.23,-34.89 296.39,-45.26 302.38,-41.66\"/>\n",
       "</a>\n",
       "</g>\n",
       "</g>\n",
       "<!-- sedentary&#45;&gt;education -->\n",
       "<g id=\"edge7\" class=\"edge\">\n",
       "<title>sedentary-&gt;education</title>\n",
       "<g id=\"a_edge7\"><a xlink:title=\"7 → 3\">\n",
       "<path fill=\"none\" stroke=\"#4a4a4a\" d=\"M193.36,-288.76C182.23,-279.49 168.1,-267.71 155.91,-257.55\"/>\n",
       "<polygon fill=\"#4a4a4a\" stroke=\"#4a4a4a\" points=\"158.15,-254.86 148.22,-251.15 153.66,-260.24 158.15,-254.86\"/>\n",
       "</a>\n",
       "</g>\n",
       "</g>\n",
       "</g>\n",
       "</svg>"
      ],
      "text/plain": [
       "<IPython.core.display.SVG object>"
      ]
     },
     "metadata": {},
     "output_type": "display_data"
    }
   ],
   "source": [
    "# Afficher le bn\n",
    "gnb.showBN(bn)"
   ]
  },
  {
   "cell_type": "code",
   "execution_count": null,
   "id": "bc50a8c6-3cd0-4261-8266-cbbed4e8e527",
   "metadata": {},
   "outputs": [],
   "source": []
  }
 ],
 "metadata": {
  "kernelspec": {
   "display_name": "Python 3 (ipykernel)",
   "language": "python",
   "name": "python3"
  },
  "language_info": {
   "codemirror_mode": {
    "name": "ipython",
    "version": 3
   },
   "file_extension": ".py",
   "mimetype": "text/x-python",
   "name": "python",
   "nbconvert_exporter": "python",
   "pygments_lexer": "ipython3",
   "version": "3.12.3"
  }
 },
 "nbformat": 4,
 "nbformat_minor": 5
}
